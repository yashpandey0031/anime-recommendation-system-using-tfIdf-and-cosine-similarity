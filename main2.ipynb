{
 "cells": [
  {
   "cell_type": "code",
   "execution_count": 2,
   "id": "1f108bcc",
   "metadata": {},
   "outputs": [],
   "source": [
    "import pandas as pd"
   ]
  },
  {
   "cell_type": "code",
   "execution_count": 3,
   "id": "e70d5fdb",
   "metadata": {},
   "outputs": [],
   "source": [
    "df=pd.read_csv(\"anime.csv\") #reading the data\n"
   ]
  },
  {
   "cell_type": "code",
   "execution_count": 4,
   "id": "8607f75c",
   "metadata": {},
   "outputs": [
    {
     "data": {
      "application/vnd.microsoft.datawrangler.viewer.v0+json": {
       "columns": [
        {
         "name": "index",
         "rawType": "int64",
         "type": "integer"
        },
        {
         "name": "anime_id",
         "rawType": "int64",
         "type": "integer"
        },
        {
         "name": "name",
         "rawType": "object",
         "type": "string"
        },
        {
         "name": "genre",
         "rawType": "object",
         "type": "string"
        },
        {
         "name": "type",
         "rawType": "object",
         "type": "string"
        },
        {
         "name": "episodes",
         "rawType": "object",
         "type": "string"
        },
        {
         "name": "rating",
         "rawType": "float64",
         "type": "float"
        },
        {
         "name": "members",
         "rawType": "int64",
         "type": "integer"
        }
       ],
       "ref": "1990fdf3-9d32-4676-b48a-75adc2cbeab3",
       "rows": [
        [
         "659",
         "28999",
         "Charlotte",
         "Drama, School, Super Power",
         "TV",
         "13",
         "7.91",
         "310137"
        ],
        [
         "5255",
         "13283",
         "One Off",
         "Slice of Life",
         "OVA",
         "4",
         "6.5",
         "9299"
        ],
        [
         "2398",
         "1845",
         "Gaiking: Legend of Daiku-Maryu",
         "Action, Mecha, Sci-Fi",
         "TV",
         "39",
         "7.27",
         "2640"
        ],
        [
         "11845",
         "23475",
         "Saimin Jutsu Zero Special",
         "Hentai",
         "Special",
         "1",
         "6.0",
         "648"
        ],
        [
         "9725",
         "31004",
         "Niji no Kakehashi",
         "Drama, Kids",
         "OVA",
         "1",
         "8.2",
         "40"
        ]
       ],
       "shape": {
        "columns": 7,
        "rows": 5
       }
      },
      "text/html": [
       "<div>\n",
       "<style scoped>\n",
       "    .dataframe tbody tr th:only-of-type {\n",
       "        vertical-align: middle;\n",
       "    }\n",
       "\n",
       "    .dataframe tbody tr th {\n",
       "        vertical-align: top;\n",
       "    }\n",
       "\n",
       "    .dataframe thead th {\n",
       "        text-align: right;\n",
       "    }\n",
       "</style>\n",
       "<table border=\"1\" class=\"dataframe\">\n",
       "  <thead>\n",
       "    <tr style=\"text-align: right;\">\n",
       "      <th></th>\n",
       "      <th>anime_id</th>\n",
       "      <th>name</th>\n",
       "      <th>genre</th>\n",
       "      <th>type</th>\n",
       "      <th>episodes</th>\n",
       "      <th>rating</th>\n",
       "      <th>members</th>\n",
       "    </tr>\n",
       "  </thead>\n",
       "  <tbody>\n",
       "    <tr>\n",
       "      <th>659</th>\n",
       "      <td>28999</td>\n",
       "      <td>Charlotte</td>\n",
       "      <td>Drama, School, Super Power</td>\n",
       "      <td>TV</td>\n",
       "      <td>13</td>\n",
       "      <td>7.91</td>\n",
       "      <td>310137</td>\n",
       "    </tr>\n",
       "    <tr>\n",
       "      <th>5255</th>\n",
       "      <td>13283</td>\n",
       "      <td>One Off</td>\n",
       "      <td>Slice of Life</td>\n",
       "      <td>OVA</td>\n",
       "      <td>4</td>\n",
       "      <td>6.50</td>\n",
       "      <td>9299</td>\n",
       "    </tr>\n",
       "    <tr>\n",
       "      <th>2398</th>\n",
       "      <td>1845</td>\n",
       "      <td>Gaiking: Legend of Daiku-Maryu</td>\n",
       "      <td>Action, Mecha, Sci-Fi</td>\n",
       "      <td>TV</td>\n",
       "      <td>39</td>\n",
       "      <td>7.27</td>\n",
       "      <td>2640</td>\n",
       "    </tr>\n",
       "    <tr>\n",
       "      <th>11845</th>\n",
       "      <td>23475</td>\n",
       "      <td>Saimin Jutsu Zero Special</td>\n",
       "      <td>Hentai</td>\n",
       "      <td>Special</td>\n",
       "      <td>1</td>\n",
       "      <td>6.00</td>\n",
       "      <td>648</td>\n",
       "    </tr>\n",
       "    <tr>\n",
       "      <th>9725</th>\n",
       "      <td>31004</td>\n",
       "      <td>Niji no Kakehashi</td>\n",
       "      <td>Drama, Kids</td>\n",
       "      <td>OVA</td>\n",
       "      <td>1</td>\n",
       "      <td>8.20</td>\n",
       "      <td>40</td>\n",
       "    </tr>\n",
       "  </tbody>\n",
       "</table>\n",
       "</div>"
      ],
      "text/plain": [
       "       anime_id                            name                       genre  \\\n",
       "659       28999                       Charlotte  Drama, School, Super Power   \n",
       "5255      13283                         One Off               Slice of Life   \n",
       "2398       1845  Gaiking: Legend of Daiku-Maryu       Action, Mecha, Sci-Fi   \n",
       "11845     23475       Saimin Jutsu Zero Special                      Hentai   \n",
       "9725      31004               Niji no Kakehashi                 Drama, Kids   \n",
       "\n",
       "          type episodes  rating  members  \n",
       "659         TV       13    7.91   310137  \n",
       "5255       OVA        4    6.50     9299  \n",
       "2398        TV       39    7.27     2640  \n",
       "11845  Special        1    6.00      648  \n",
       "9725       OVA        1    8.20       40  "
      ]
     },
     "execution_count": 4,
     "metadata": {},
     "output_type": "execute_result"
    }
   ],
   "source": [
    "df.sample(5)"
   ]
  },
  {
   "cell_type": "code",
   "execution_count": 5,
   "id": "e24b1456",
   "metadata": {},
   "outputs": [
    {
     "data": {
      "text/plain": [
       "(12294, 7)"
      ]
     },
     "execution_count": 5,
     "metadata": {},
     "output_type": "execute_result"
    }
   ],
   "source": [
    "df.shape"
   ]
  },
  {
   "cell_type": "code",
   "execution_count": 6,
   "id": "5783049d",
   "metadata": {},
   "outputs": [
    {
     "name": "stdout",
     "output_type": "stream",
     "text": [
      "<class 'pandas.core.frame.DataFrame'>\n",
      "RangeIndex: 12294 entries, 0 to 12293\n",
      "Data columns (total 7 columns):\n",
      " #   Column    Non-Null Count  Dtype  \n",
      "---  ------    --------------  -----  \n",
      " 0   anime_id  12294 non-null  int64  \n",
      " 1   name      12294 non-null  object \n",
      " 2   genre     12232 non-null  object \n",
      " 3   type      12269 non-null  object \n",
      " 4   episodes  12294 non-null  object \n",
      " 5   rating    12064 non-null  float64\n",
      " 6   members   12294 non-null  int64  \n",
      "dtypes: float64(1), int64(2), object(4)\n",
      "memory usage: 672.5+ KB\n"
     ]
    }
   ],
   "source": [
    "df.info()"
   ]
  },
  {
   "cell_type": "code",
   "execution_count": 7,
   "id": "d029d6ef",
   "metadata": {},
   "outputs": [],
   "source": [
    "# drop anime_id , type , episodes \n",
    "df.drop(columns=['anime_id','type','episodes'],inplace=True) #inplace = true makes the changes in the original object / data"
   ]
  },
  {
   "cell_type": "code",
   "execution_count": 8,
   "id": "e9afb77b",
   "metadata": {},
   "outputs": [
    {
     "data": {
      "application/vnd.microsoft.datawrangler.viewer.v0+json": {
       "columns": [
        {
         "name": "index",
         "rawType": "int64",
         "type": "integer"
        },
        {
         "name": "name",
         "rawType": "object",
         "type": "string"
        },
        {
         "name": "genre",
         "rawType": "object",
         "type": "string"
        },
        {
         "name": "rating",
         "rawType": "float64",
         "type": "float"
        },
        {
         "name": "members",
         "rawType": "int64",
         "type": "integer"
        }
       ],
       "ref": "9481dbee-ec8f-442c-8884-7010f7f5561c",
       "rows": [
        [
         "0",
         "Kimi no Na wa.",
         "Drama, Romance, School, Supernatural",
         "9.37",
         "200630"
        ],
        [
         "1",
         "Fullmetal Alchemist: Brotherhood",
         "Action, Adventure, Drama, Fantasy, Magic, Military, Shounen",
         "9.26",
         "793665"
        ],
        [
         "2",
         "Gintama°",
         "Action, Comedy, Historical, Parody, Samurai, Sci-Fi, Shounen",
         "9.25",
         "114262"
        ],
        [
         "3",
         "Steins;Gate",
         "Sci-Fi, Thriller",
         "9.17",
         "673572"
        ],
        [
         "4",
         "Gintama&#039;",
         "Action, Comedy, Historical, Parody, Samurai, Sci-Fi, Shounen",
         "9.16",
         "151266"
        ]
       ],
       "shape": {
        "columns": 4,
        "rows": 5
       }
      },
      "text/html": [
       "<div>\n",
       "<style scoped>\n",
       "    .dataframe tbody tr th:only-of-type {\n",
       "        vertical-align: middle;\n",
       "    }\n",
       "\n",
       "    .dataframe tbody tr th {\n",
       "        vertical-align: top;\n",
       "    }\n",
       "\n",
       "    .dataframe thead th {\n",
       "        text-align: right;\n",
       "    }\n",
       "</style>\n",
       "<table border=\"1\" class=\"dataframe\">\n",
       "  <thead>\n",
       "    <tr style=\"text-align: right;\">\n",
       "      <th></th>\n",
       "      <th>name</th>\n",
       "      <th>genre</th>\n",
       "      <th>rating</th>\n",
       "      <th>members</th>\n",
       "    </tr>\n",
       "  </thead>\n",
       "  <tbody>\n",
       "    <tr>\n",
       "      <th>0</th>\n",
       "      <td>Kimi no Na wa.</td>\n",
       "      <td>Drama, Romance, School, Supernatural</td>\n",
       "      <td>9.37</td>\n",
       "      <td>200630</td>\n",
       "    </tr>\n",
       "    <tr>\n",
       "      <th>1</th>\n",
       "      <td>Fullmetal Alchemist: Brotherhood</td>\n",
       "      <td>Action, Adventure, Drama, Fantasy, Magic, Mili...</td>\n",
       "      <td>9.26</td>\n",
       "      <td>793665</td>\n",
       "    </tr>\n",
       "    <tr>\n",
       "      <th>2</th>\n",
       "      <td>Gintama°</td>\n",
       "      <td>Action, Comedy, Historical, Parody, Samurai, S...</td>\n",
       "      <td>9.25</td>\n",
       "      <td>114262</td>\n",
       "    </tr>\n",
       "    <tr>\n",
       "      <th>3</th>\n",
       "      <td>Steins;Gate</td>\n",
       "      <td>Sci-Fi, Thriller</td>\n",
       "      <td>9.17</td>\n",
       "      <td>673572</td>\n",
       "    </tr>\n",
       "    <tr>\n",
       "      <th>4</th>\n",
       "      <td>Gintama&amp;#039;</td>\n",
       "      <td>Action, Comedy, Historical, Parody, Samurai, S...</td>\n",
       "      <td>9.16</td>\n",
       "      <td>151266</td>\n",
       "    </tr>\n",
       "  </tbody>\n",
       "</table>\n",
       "</div>"
      ],
      "text/plain": [
       "                               name  \\\n",
       "0                    Kimi no Na wa.   \n",
       "1  Fullmetal Alchemist: Brotherhood   \n",
       "2                          Gintama°   \n",
       "3                       Steins;Gate   \n",
       "4                     Gintama&#039;   \n",
       "\n",
       "                                               genre  rating  members  \n",
       "0               Drama, Romance, School, Supernatural    9.37   200630  \n",
       "1  Action, Adventure, Drama, Fantasy, Magic, Mili...    9.26   793665  \n",
       "2  Action, Comedy, Historical, Parody, Samurai, S...    9.25   114262  \n",
       "3                                   Sci-Fi, Thriller    9.17   673572  \n",
       "4  Action, Comedy, Historical, Parody, Samurai, S...    9.16   151266  "
      ]
     },
     "execution_count": 8,
     "metadata": {},
     "output_type": "execute_result"
    }
   ],
   "source": [
    "df.head()"
   ]
  },
  {
   "cell_type": "code",
   "execution_count": 9,
   "id": "17947426",
   "metadata": {},
   "outputs": [
    {
     "data": {
      "application/vnd.microsoft.datawrangler.viewer.v0+json": {
       "columns": [
        {
         "name": "index",
         "rawType": "object",
         "type": "string"
        },
        {
         "name": "0",
         "rawType": "int64",
         "type": "integer"
        }
       ],
       "ref": "ffa0c29b-2027-472f-9216-e81554d28aa0",
       "rows": [
        [
         "name",
         "0"
        ],
        [
         "genre",
         "62"
        ],
        [
         "rating",
         "230"
        ],
        [
         "members",
         "0"
        ]
       ],
       "shape": {
        "columns": 1,
        "rows": 4
       }
      },
      "text/plain": [
       "name         0\n",
       "genre       62\n",
       "rating     230\n",
       "members      0\n",
       "dtype: int64"
      ]
     },
     "execution_count": 9,
     "metadata": {},
     "output_type": "execute_result"
    }
   ],
   "source": [
    "df.isnull().sum() #check for missing values"
   ]
  },
  {
   "cell_type": "code",
   "execution_count": 10,
   "id": "a7f6a067",
   "metadata": {},
   "outputs": [],
   "source": [
    "df.dropna(subset=['genre', 'rating'], inplace=True) #check for missing values in genre and rating and drop them \n"
   ]
  },
  {
   "cell_type": "code",
   "execution_count": 11,
   "id": "bfea6ccb",
   "metadata": {},
   "outputs": [
    {
     "data": {
      "text/plain": [
       "np.int64(0)"
      ]
     },
     "execution_count": 11,
     "metadata": {},
     "output_type": "execute_result"
    }
   ],
   "source": [
    "# check for duplicate values\n",
    "df.duplicated().sum()"
   ]
  },
  {
   "cell_type": "code",
   "execution_count": 12,
   "id": "3f15ab8c",
   "metadata": {},
   "outputs": [
    {
     "data": {
      "application/vnd.microsoft.datawrangler.viewer.v0+json": {
       "columns": [
        {
         "name": "index",
         "rawType": "object",
         "type": "string"
        },
        {
         "name": "0",
         "rawType": "int64",
         "type": "integer"
        }
       ],
       "ref": "a842dde3-e9b6-47ab-bda1-12032afd5c59",
       "rows": [
        [
         "name",
         "0"
        ],
        [
         "genre",
         "0"
        ],
        [
         "rating",
         "0"
        ],
        [
         "members",
         "0"
        ]
       ],
       "shape": {
        "columns": 1,
        "rows": 4
       }
      },
      "text/plain": [
       "name       0\n",
       "genre      0\n",
       "rating     0\n",
       "members    0\n",
       "dtype: int64"
      ]
     },
     "execution_count": 12,
     "metadata": {},
     "output_type": "execute_result"
    }
   ],
   "source": [
    "df.isnull().sum() #dropped "
   ]
  },
  {
   "cell_type": "code",
   "execution_count": 13,
   "id": "d6c85932",
   "metadata": {},
   "outputs": [
    {
     "data": {
      "application/vnd.microsoft.datawrangler.viewer.v0+json": {
       "columns": [
        {
         "name": "index",
         "rawType": "int64",
         "type": "integer"
        },
        {
         "name": "name",
         "rawType": "object",
         "type": "string"
        },
        {
         "name": "genre",
         "rawType": "object",
         "type": "string"
        },
        {
         "name": "rating",
         "rawType": "float64",
         "type": "float"
        },
        {
         "name": "members",
         "rawType": "int64",
         "type": "integer"
        }
       ],
       "ref": "f04fa3e2-caac-4f77-919f-5f5d8f499a35",
       "rows": [
        [
         "0",
         "Kimi no Na wa.",
         "Drama, Romance, School, Supernatural",
         "9.37",
         "200630"
        ],
        [
         "1",
         "Fullmetal Alchemist: Brotherhood",
         "Action, Adventure, Drama, Fantasy, Magic, Military, Shounen",
         "9.26",
         "793665"
        ],
        [
         "2",
         "Gintama°",
         "Action, Comedy, Historical, Parody, Samurai, Sci-Fi, Shounen",
         "9.25",
         "114262"
        ],
        [
         "3",
         "Steins;Gate",
         "Sci-Fi, Thriller",
         "9.17",
         "673572"
        ],
        [
         "4",
         "Gintama&#039;",
         "Action, Comedy, Historical, Parody, Samurai, Sci-Fi, Shounen",
         "9.16",
         "151266"
        ]
       ],
       "shape": {
        "columns": 4,
        "rows": 5
       }
      },
      "text/html": [
       "<div>\n",
       "<style scoped>\n",
       "    .dataframe tbody tr th:only-of-type {\n",
       "        vertical-align: middle;\n",
       "    }\n",
       "\n",
       "    .dataframe tbody tr th {\n",
       "        vertical-align: top;\n",
       "    }\n",
       "\n",
       "    .dataframe thead th {\n",
       "        text-align: right;\n",
       "    }\n",
       "</style>\n",
       "<table border=\"1\" class=\"dataframe\">\n",
       "  <thead>\n",
       "    <tr style=\"text-align: right;\">\n",
       "      <th></th>\n",
       "      <th>name</th>\n",
       "      <th>genre</th>\n",
       "      <th>rating</th>\n",
       "      <th>members</th>\n",
       "    </tr>\n",
       "  </thead>\n",
       "  <tbody>\n",
       "    <tr>\n",
       "      <th>0</th>\n",
       "      <td>Kimi no Na wa.</td>\n",
       "      <td>Drama, Romance, School, Supernatural</td>\n",
       "      <td>9.37</td>\n",
       "      <td>200630</td>\n",
       "    </tr>\n",
       "    <tr>\n",
       "      <th>1</th>\n",
       "      <td>Fullmetal Alchemist: Brotherhood</td>\n",
       "      <td>Action, Adventure, Drama, Fantasy, Magic, Mili...</td>\n",
       "      <td>9.26</td>\n",
       "      <td>793665</td>\n",
       "    </tr>\n",
       "    <tr>\n",
       "      <th>2</th>\n",
       "      <td>Gintama°</td>\n",
       "      <td>Action, Comedy, Historical, Parody, Samurai, S...</td>\n",
       "      <td>9.25</td>\n",
       "      <td>114262</td>\n",
       "    </tr>\n",
       "    <tr>\n",
       "      <th>3</th>\n",
       "      <td>Steins;Gate</td>\n",
       "      <td>Sci-Fi, Thriller</td>\n",
       "      <td>9.17</td>\n",
       "      <td>673572</td>\n",
       "    </tr>\n",
       "    <tr>\n",
       "      <th>4</th>\n",
       "      <td>Gintama&amp;#039;</td>\n",
       "      <td>Action, Comedy, Historical, Parody, Samurai, S...</td>\n",
       "      <td>9.16</td>\n",
       "      <td>151266</td>\n",
       "    </tr>\n",
       "  </tbody>\n",
       "</table>\n",
       "</div>"
      ],
      "text/plain": [
       "                               name  \\\n",
       "0                    Kimi no Na wa.   \n",
       "1  Fullmetal Alchemist: Brotherhood   \n",
       "2                          Gintama°   \n",
       "3                       Steins;Gate   \n",
       "4                     Gintama&#039;   \n",
       "\n",
       "                                               genre  rating  members  \n",
       "0               Drama, Romance, School, Supernatural    9.37   200630  \n",
       "1  Action, Adventure, Drama, Fantasy, Magic, Mili...    9.26   793665  \n",
       "2  Action, Comedy, Historical, Parody, Samurai, S...    9.25   114262  \n",
       "3                                   Sci-Fi, Thriller    9.17   673572  \n",
       "4  Action, Comedy, Historical, Parody, Samurai, S...    9.16   151266  "
      ]
     },
     "execution_count": 13,
     "metadata": {},
     "output_type": "execute_result"
    }
   ],
   "source": [
    "df.head()"
   ]
  },
  {
   "cell_type": "code",
   "execution_count": 14,
   "id": "406e9309",
   "metadata": {},
   "outputs": [],
   "source": [
    "\n",
    "#we will keep the name as it is since it is a label\n",
    "#Standardize separators (remove inconsistent spacing)\n",
    "df['genre'] = df['genre'].str.replace(r'\\s*,\\s*', ', ', regex=True)"
   ]
  },
  {
   "cell_type": "code",
   "execution_count": 15,
   "id": "dabdd196",
   "metadata": {},
   "outputs": [],
   "source": [
    "#Split genre strings into lists\n",
    "df['genre'] = df['genre'].str.split(', ')"
   ]
  },
  {
   "cell_type": "code",
   "execution_count": 16,
   "id": "e327446b",
   "metadata": {},
   "outputs": [],
   "source": [
    " #Strip whitespace from each genre (just in case)\n",
    "df['genre'] = df['genre'].apply(lambda x: [g.strip() for g in x])"
   ]
  },
  {
   "cell_type": "code",
   "execution_count": 17,
   "id": "e1e493c3",
   "metadata": {},
   "outputs": [
    {
     "data": {
      "application/vnd.microsoft.datawrangler.viewer.v0+json": {
       "columns": [
        {
         "name": "index",
         "rawType": "int64",
         "type": "integer"
        },
        {
         "name": "name",
         "rawType": "object",
         "type": "string"
        },
        {
         "name": "genre",
         "rawType": "object",
         "type": "unknown"
        },
        {
         "name": "rating",
         "rawType": "float64",
         "type": "float"
        },
        {
         "name": "members",
         "rawType": "int64",
         "type": "integer"
        }
       ],
       "ref": "e0a191c8-f082-4227-a59a-8291e73529e6",
       "rows": [
        [
         "0",
         "Kimi no Na wa.",
         "['Drama', 'Romance', 'School', 'Supernatural']",
         "9.37",
         "200630"
        ],
        [
         "1",
         "Fullmetal Alchemist: Brotherhood",
         "['Action', 'Adventure', 'Drama', 'Fantasy', 'Magic', 'Military', 'Shounen']",
         "9.26",
         "793665"
        ],
        [
         "2",
         "Gintama°",
         "['Action', 'Comedy', 'Historical', 'Parody', 'Samurai', 'Sci-Fi', 'Shounen']",
         "9.25",
         "114262"
        ],
        [
         "3",
         "Steins;Gate",
         "['Sci-Fi', 'Thriller']",
         "9.17",
         "673572"
        ],
        [
         "4",
         "Gintama&#039;",
         "['Action', 'Comedy', 'Historical', 'Parody', 'Samurai', 'Sci-Fi', 'Shounen']",
         "9.16",
         "151266"
        ]
       ],
       "shape": {
        "columns": 4,
        "rows": 5
       }
      },
      "text/html": [
       "<div>\n",
       "<style scoped>\n",
       "    .dataframe tbody tr th:only-of-type {\n",
       "        vertical-align: middle;\n",
       "    }\n",
       "\n",
       "    .dataframe tbody tr th {\n",
       "        vertical-align: top;\n",
       "    }\n",
       "\n",
       "    .dataframe thead th {\n",
       "        text-align: right;\n",
       "    }\n",
       "</style>\n",
       "<table border=\"1\" class=\"dataframe\">\n",
       "  <thead>\n",
       "    <tr style=\"text-align: right;\">\n",
       "      <th></th>\n",
       "      <th>name</th>\n",
       "      <th>genre</th>\n",
       "      <th>rating</th>\n",
       "      <th>members</th>\n",
       "    </tr>\n",
       "  </thead>\n",
       "  <tbody>\n",
       "    <tr>\n",
       "      <th>0</th>\n",
       "      <td>Kimi no Na wa.</td>\n",
       "      <td>[Drama, Romance, School, Supernatural]</td>\n",
       "      <td>9.37</td>\n",
       "      <td>200630</td>\n",
       "    </tr>\n",
       "    <tr>\n",
       "      <th>1</th>\n",
       "      <td>Fullmetal Alchemist: Brotherhood</td>\n",
       "      <td>[Action, Adventure, Drama, Fantasy, Magic, Mil...</td>\n",
       "      <td>9.26</td>\n",
       "      <td>793665</td>\n",
       "    </tr>\n",
       "    <tr>\n",
       "      <th>2</th>\n",
       "      <td>Gintama°</td>\n",
       "      <td>[Action, Comedy, Historical, Parody, Samurai, ...</td>\n",
       "      <td>9.25</td>\n",
       "      <td>114262</td>\n",
       "    </tr>\n",
       "    <tr>\n",
       "      <th>3</th>\n",
       "      <td>Steins;Gate</td>\n",
       "      <td>[Sci-Fi, Thriller]</td>\n",
       "      <td>9.17</td>\n",
       "      <td>673572</td>\n",
       "    </tr>\n",
       "    <tr>\n",
       "      <th>4</th>\n",
       "      <td>Gintama&amp;#039;</td>\n",
       "      <td>[Action, Comedy, Historical, Parody, Samurai, ...</td>\n",
       "      <td>9.16</td>\n",
       "      <td>151266</td>\n",
       "    </tr>\n",
       "  </tbody>\n",
       "</table>\n",
       "</div>"
      ],
      "text/plain": [
       "                               name  \\\n",
       "0                    Kimi no Na wa.   \n",
       "1  Fullmetal Alchemist: Brotherhood   \n",
       "2                          Gintama°   \n",
       "3                       Steins;Gate   \n",
       "4                     Gintama&#039;   \n",
       "\n",
       "                                               genre  rating  members  \n",
       "0             [Drama, Romance, School, Supernatural]    9.37   200630  \n",
       "1  [Action, Adventure, Drama, Fantasy, Magic, Mil...    9.26   793665  \n",
       "2  [Action, Comedy, Historical, Parody, Samurai, ...    9.25   114262  \n",
       "3                                 [Sci-Fi, Thriller]    9.17   673572  \n",
       "4  [Action, Comedy, Historical, Parody, Samurai, ...    9.16   151266  "
      ]
     },
     "execution_count": 17,
     "metadata": {},
     "output_type": "execute_result"
    }
   ],
   "source": [
    "df.head()"
   ]
  },
  {
   "cell_type": "markdown",
   "id": "63464733",
   "metadata": {},
   "source": [
    "EDA\n"
   ]
  },
  {
   "cell_type": "code",
   "execution_count": 18,
   "id": "2010e240",
   "metadata": {},
   "outputs": [],
   "source": [
    "import matplotlib.pyplot as plt"
   ]
  },
  {
   "cell_type": "code",
   "execution_count": 19,
   "id": "792c8077",
   "metadata": {},
   "outputs": [
    {
     "data": {
      "image/png": "[encoded data removed]",
      "text/plain": [
       "<Figure size 640x480 with 1 Axes>"
      ]
     },
     "metadata": {},
     "output_type": "display_data"
    }
   ],
   "source": [
    "plt.hist(df.rating, bins=30, color='skyblue', edgecolor='black')\n",
    "plt.xlabel('Rating')\n",
    "plt.ylabel('Number of anime')\n",
    "plt.title('Rating Distribution')\n",
    "plt.show()"
   ]
  },
  {
   "cell_type": "code",
   "execution_count": 20,
   "id": "44d9f6e8",
   "metadata": {},
   "outputs": [
    {
     "data": {
      "application/vnd.microsoft.datawrangler.viewer.v0+json": {
       "columns": [
        {
         "name": "index",
         "rawType": "object",
         "type": "string"
        },
        {
         "name": "members",
         "rawType": "float64",
         "type": "float"
        }
       ],
       "ref": "25c4488f-5a79-4866-944a-12cbf16eb28d",
       "rows": [
        [
         "count",
         "12017.0"
        ],
        [
         "mean",
         "18348.87900474328"
        ],
        [
         "std",
         "55372.496435779976"
        ],
        [
         "min",
         "12.0"
        ],
        [
         "25%",
         "225.0"
        ],
        [
         "50%",
         "1552.0"
        ],
        [
         "75%",
         "9588.0"
        ],
        [
         "max",
         "1013917.0"
        ]
       ],
       "shape": {
        "columns": 1,
        "rows": 8
       }
      },
      "text/html": [
       "<div>\n",
       "<style scoped>\n",
       "    .dataframe tbody tr th:only-of-type {\n",
       "        vertical-align: middle;\n",
       "    }\n",
       "\n",
       "    .dataframe tbody tr th {\n",
       "        vertical-align: top;\n",
       "    }\n",
       "\n",
       "    .dataframe thead th {\n",
       "        text-align: right;\n",
       "    }\n",
       "</style>\n",
       "<table border=\"1\" class=\"dataframe\">\n",
       "  <thead>\n",
       "    <tr style=\"text-align: right;\">\n",
       "      <th></th>\n",
       "      <th>members</th>\n",
       "    </tr>\n",
       "  </thead>\n",
       "  <tbody>\n",
       "    <tr>\n",
       "      <th>count</th>\n",
       "      <td>1.201700e+04</td>\n",
       "    </tr>\n",
       "    <tr>\n",
       "      <th>mean</th>\n",
       "      <td>1.834888e+04</td>\n",
       "    </tr>\n",
       "    <tr>\n",
       "      <th>std</th>\n",
       "      <td>5.537250e+04</td>\n",
       "    </tr>\n",
       "    <tr>\n",
       "      <th>min</th>\n",
       "      <td>1.200000e+01</td>\n",
       "    </tr>\n",
       "    <tr>\n",
       "      <th>25%</th>\n",
       "      <td>2.250000e+02</td>\n",
       "    </tr>\n",
       "    <tr>\n",
       "      <th>50%</th>\n",
       "      <td>1.552000e+03</td>\n",
       "    </tr>\n",
       "    <tr>\n",
       "      <th>75%</th>\n",
       "      <td>9.588000e+03</td>\n",
       "    </tr>\n",
       "    <tr>\n",
       "      <th>max</th>\n",
       "      <td>1.013917e+06</td>\n",
       "    </tr>\n",
       "  </tbody>\n",
       "</table>\n",
       "</div>"
      ],
      "text/plain": [
       "            members\n",
       "count  1.201700e+04\n",
       "mean   1.834888e+04\n",
       "std    5.537250e+04\n",
       "min    1.200000e+01\n",
       "25%    2.250000e+02\n",
       "50%    1.552000e+03\n",
       "75%    9.588000e+03\n",
       "max    1.013917e+06"
      ]
     },
     "execution_count": 20,
     "metadata": {},
     "output_type": "execute_result"
    }
   ],
   "source": [
    "df[['members']].describe() # we might need to normalize the members since some are really famous while some are not "
   ]
  },
  {
   "cell_type": "code",
   "execution_count": 21,
   "id": "1a627fab",
   "metadata": {},
   "outputs": [
    {
     "data": {
      "application/vnd.microsoft.datawrangler.viewer.v0+json": {
       "columns": [
        {
         "name": "index",
         "rawType": "object",
         "type": "string"
        },
        {
         "name": "rating",
         "rawType": "float64",
         "type": "float"
        }
       ],
       "ref": "ed11e712-c68d-4f79-9ec9-52200a747af2",
       "rows": [
        [
         "count",
         "12017.0"
        ],
        [
         "mean",
         "6.478264125821752"
        ],
        [
         "std",
         "1.0238566985113713"
        ],
        [
         "min",
         "1.67"
        ],
        [
         "25%",
         "5.89"
        ],
        [
         "50%",
         "6.57"
        ],
        [
         "75%",
         "7.18"
        ],
        [
         "max",
         "10.0"
        ]
       ],
       "shape": {
        "columns": 1,
        "rows": 8
       }
      },
      "text/html": [
       "<div>\n",
       "<style scoped>\n",
       "    .dataframe tbody tr th:only-of-type {\n",
       "        vertical-align: middle;\n",
       "    }\n",
       "\n",
       "    .dataframe tbody tr th {\n",
       "        vertical-align: top;\n",
       "    }\n",
       "\n",
       "    .dataframe thead th {\n",
       "        text-align: right;\n",
       "    }\n",
       "</style>\n",
       "<table border=\"1\" class=\"dataframe\">\n",
       "  <thead>\n",
       "    <tr style=\"text-align: right;\">\n",
       "      <th></th>\n",
       "      <th>rating</th>\n",
       "    </tr>\n",
       "  </thead>\n",
       "  <tbody>\n",
       "    <tr>\n",
       "      <th>count</th>\n",
       "      <td>12017.000000</td>\n",
       "    </tr>\n",
       "    <tr>\n",
       "      <th>mean</th>\n",
       "      <td>6.478264</td>\n",
       "    </tr>\n",
       "    <tr>\n",
       "      <th>std</th>\n",
       "      <td>1.023857</td>\n",
       "    </tr>\n",
       "    <tr>\n",
       "      <th>min</th>\n",
       "      <td>1.670000</td>\n",
       "    </tr>\n",
       "    <tr>\n",
       "      <th>25%</th>\n",
       "      <td>5.890000</td>\n",
       "    </tr>\n",
       "    <tr>\n",
       "      <th>50%</th>\n",
       "      <td>6.570000</td>\n",
       "    </tr>\n",
       "    <tr>\n",
       "      <th>75%</th>\n",
       "      <td>7.180000</td>\n",
       "    </tr>\n",
       "    <tr>\n",
       "      <th>max</th>\n",
       "      <td>10.000000</td>\n",
       "    </tr>\n",
       "  </tbody>\n",
       "</table>\n",
       "</div>"
      ],
      "text/plain": [
       "             rating\n",
       "count  12017.000000\n",
       "mean       6.478264\n",
       "std        1.023857\n",
       "min        1.670000\n",
       "25%        5.890000\n",
       "50%        6.570000\n",
       "75%        7.180000\n",
       "max       10.000000"
      ]
     },
     "execution_count": 21,
     "metadata": {},
     "output_type": "execute_result"
    }
   ],
   "source": [
    "df[['rating']].describe()"
   ]
  },
  {
   "cell_type": "code",
   "execution_count": 22,
   "id": "f8eb0e9d",
   "metadata": {},
   "outputs": [],
   "source": [
    "from collections import Counter\n",
    "\n",
    "# Flatten all genre lists into one big list\n",
    "all_genres = [genre for sublist in df['genre'] for genre in sublist]\n",
    "\n",
    "# Count frequency of each genre\n",
    "genre_counts = Counter(all_genres)\n",
    "\n",
    "# Convert to a DataFrame for easier viewing (optional)\n",
    "genre_freq_df = pd.DataFrame(genre_counts.items(), columns=['Genre', 'Count']).sort_values(by='Count', ascending=False)\n"
   ]
  },
  {
   "cell_type": "code",
   "execution_count": 23,
   "id": "7d1ec11c",
   "metadata": {},
   "outputs": [
    {
     "name": "stderr",
     "output_type": "stream",
     "text": [
      "C:\\Users\\yashs\\AppData\\Local\\Temp\\ipykernel_24344\\1918186022.py:8: FutureWarning: \n",
      "\n",
      "Passing `palette` without assigning `hue` is deprecated and will be removed in v0.14.0. Assign the `y` variable to `hue` and set `legend=False` for the same effect.\n",
      "\n",
      "  sns.barplot(x='Count', y='Genre', data=top_genres, palette='viridis')\n"
     ]
    },
    {
     "data": {
      "image/png": "[encoded data removed]",
      "text/plain": [
       "<Figure size 1200x600 with 1 Axes>"
      ]
     },
     "metadata": {},
     "output_type": "display_data"
    }
   ],
   "source": [
    "import matplotlib.pyplot as plt\n",
    "import seaborn as sns\n",
    "\n",
    "# Plot top 15 genres\n",
    "top_genres = genre_freq_df.head(15)\n",
    "\n",
    "plt.figure(figsize=(12, 6))\n",
    "sns.barplot(x='Count', y='Genre', data=top_genres, palette='viridis')\n",
    "plt.title('Top 15 Most Common Anime Genres')\n",
    "plt.xlabel('Frequency')\n",
    "plt.ylabel('Genre')\n",
    "plt.tight_layout()\n",
    "plt.show()\n"
   ]
  },
  {
   "cell_type": "code",
   "execution_count": 24,
   "id": "2bac971a",
   "metadata": {},
   "outputs": [
    {
     "data": {
      "image/png": "[encoded data removed]",
      "text/plain": [
       "<Figure size 640x480 with 1 Axes>"
      ]
     },
     "metadata": {},
     "output_type": "display_data"
    }
   ],
   "source": [
    "plt.scatter(df.rating, df.members)\n",
    "plt.title(\"Rating Vs Members Comparison\")\n",
    "plt.xlabel(\"Rating\")\n",
    "plt.ylabel(\"Members\")\n",
    "plt.show() #higher members dont tend to have higher rating , even lower members can have higher ratings"
   ]
  },
  {
   "cell_type": "code",
   "execution_count": 25,
   "id": "8692121b",
   "metadata": {},
   "outputs": [
    {
     "data": {
      "image/png": "[encoded data removed]",
      "text/plain": [
       "<Figure size 1000x600 with 1 Axes>"
      ]
     },
     "metadata": {},
     "output_type": "display_data"
    }
   ],
   "source": [
    "plt.figure(figsize=(10, 6))\n",
    "plt.hexbin(df.rating, df.members, gridsize = 50,bins='log') \n",
    "plt.title('Hexplot for rating vs members ') \n",
    "plt.xlabel('Ratings')\n",
    "plt.ylabel('Members')\n",
    "plt.show() "
   ]
  },
  {
   "cell_type": "markdown",
   "id": "0acc0365",
   "metadata": {},
   "source": [
    "hmm scatterplot was confusing but hexbin was good , a lot of high rated anime have really low members , very few high members anime have high ratings "
   ]
  },
  {
   "cell_type": "code",
   "execution_count": 26,
   "id": "a0b38c77",
   "metadata": {},
   "outputs": [
    {
     "data": {
      "image/png": "[encoded data removed]",
      "text/plain": [
       "<Figure size 1000x600 with 1 Axes>"
      ]
     },
     "metadata": {},
     "output_type": "display_data"
    }
   ],
   "source": [
    "plt.figure(figsize=(10, 6))\n",
    "plt.hexbin(df.rating, df.members, gridsize = 50,bins='log') \n",
    "plt.title('Hexplot for rating vs members ') \n",
    "plt.xlabel('Ratings')\n",
    "plt.ylabel('Members')\n",
    "plt.show() "
   ]
  },
  {
   "cell_type": "code",
   "execution_count": 27,
   "id": "c82888b0",
   "metadata": {},
   "outputs": [
    {
     "name": "stderr",
     "output_type": "stream",
     "text": [
      "C:\\Users\\yashs\\AppData\\Local\\Temp\\ipykernel_24344\\2927600701.py:23: FutureWarning: \n",
      "\n",
      "Passing `palette` without assigning `hue` is deprecated and will be removed in v0.14.0. Assign the `y` variable to `hue` and set `legend=False` for the same effect.\n",
      "\n",
      "  sns.barplot(x='Avg_Rating', y='Genre', data=avg_genre_df.head(10), palette='crest')\n"
     ]
    },
    {
     "data": {
      "image/png": "[encoded data removed]",
      "text/plain": [
       "<Figure size 1000x500 with 1 Axes>"
      ]
     },
     "metadata": {},
     "output_type": "display_data"
    },
    {
     "name": "stderr",
     "output_type": "stream",
     "text": [
      "C:\\Users\\yashs\\AppData\\Local\\Temp\\ipykernel_24344\\2927600701.py:30: FutureWarning: \n",
      "\n",
      "Passing `palette` without assigning `hue` is deprecated and will be removed in v0.14.0. Assign the `y` variable to `hue` and set `legend=False` for the same effect.\n",
      "\n",
      "  sns.barplot(x='Avg_Rating', y='Genre', data=avg_genre_df.tail(10), palette='flare')\n"
     ]
    },
    {
     "data": {
      "image/png": "[encoded data removed]",
      "text/plain": [
       "<Figure size 1000x500 with 1 Axes>"
      ]
     },
     "metadata": {},
     "output_type": "display_data"
    }
   ],
   "source": [
    "#trying to find the average rating vs genre \n",
    "from collections import defaultdict\n",
    "import pandas as pd\n",
    "import matplotlib.pyplot as plt\n",
    "import seaborn as sns\n",
    "\n",
    "# Create dictionary to collect ratings for each genre\n",
    "genre_ratings = defaultdict(list)\n",
    "\n",
    "# Fill the dictionary\n",
    "for _, row in df.iterrows():\n",
    "    for genre in row['genre']:\n",
    "        genre_ratings[genre].append(row['rating'])\n",
    "\n",
    "# Calculate average rating for each genre\n",
    "avg_genre_ratings = {genre: sum(ratings)/len(ratings) for genre, ratings in genre_ratings.items()}\n",
    "\n",
    "# Convert to DataFrame\n",
    "avg_genre_df = pd.DataFrame(avg_genre_ratings.items(), columns=['Genre', 'Avg_Rating']).sort_values(by='Avg_Rating', ascending=False)\n",
    "\n",
    "# Plot top 10\n",
    "plt.figure(figsize=(10, 5))\n",
    "sns.barplot(x='Avg_Rating', y='Genre', data=avg_genre_df.head(10), palette='crest')\n",
    "plt.title('Top 10 Genres by Average Rating')\n",
    "plt.tight_layout()\n",
    "plt.show()\n",
    "\n",
    "# Plot bottom 10\n",
    "plt.figure(figsize=(10, 5))\n",
    "sns.barplot(x='Avg_Rating', y='Genre', data=avg_genre_df.tail(10), palette='flare')\n",
    "plt.title('Bottom 10 Genres by Average Rating')\n",
    "plt.tight_layout()\n",
    "plt.show()\n"
   ]
  },
  {
   "cell_type": "markdown",
   "id": "9de6afab",
   "metadata": {},
   "source": [
    "It shows genre does influence ratings:\n",
    "\n",
    "Top-rated genres (avg > 7) likely include deep or emotionally impactful types like Psychological, Drama, Thriller, etc.\n",
    "\n",
    "Lower-rated genres (avg ~6 or less) might be more niche, inconsistent, or formulaic (Ecchi, Kids, etc.)"
   ]
  },
  {
   "cell_type": "code",
   "execution_count": 28,
   "id": "5054303d",
   "metadata": {},
   "outputs": [
    {
     "name": "stderr",
     "output_type": "stream",
     "text": [
      "C:\\Users\\yashs\\AppData\\Local\\Temp\\ipykernel_24344\\135394287.py:13: FutureWarning: \n",
      "\n",
      "Passing `palette` without assigning `hue` is deprecated and will be removed in v0.14.0. Assign the `y` variable to `hue` and set `legend=False` for the same effect.\n",
      "\n",
      "  sns.barplot(x='Count', y='Genre_Combo', data=combo_df.head(50), palette='mako')\n"
     ]
    },
    {
     "data": {
      "image/png": "[encoded data removed]",
      "text/plain": [
       "<Figure size 1200x600 with 1 Axes>"
      ]
     },
     "metadata": {},
     "output_type": "display_data"
    }
   ],
   "source": [
    "##we are tryna find the combinatios \n",
    "# Step 1: Convert genre lists to sorted, comma-separated strings\n",
    "df['genre_combo'] = df['genre'].apply(lambda g: ', '.join(sorted(g)))\n",
    "\n",
    "# Step 2: Count frequency of each unique combination\n",
    "combo_counts = Counter(df['genre_combo'])\n",
    "\n",
    "# Step 3: Convert to DataFrame and sort\n",
    "combo_df = pd.DataFrame(combo_counts.items(), columns=['Genre_Combo', 'Count']).sort_values(by='Count', ascending=False)\n",
    "\n",
    "# Step 4: Plot top 10\n",
    "plt.figure(figsize=(12, 6))\n",
    "sns.barplot(x='Count', y='Genre_Combo', data=combo_df.head(50), palette='mako')\n",
    "plt.title('Top 10 Most Common Genre Combinations')\n",
    "plt.xlabel('Frequency')\n",
    "plt.ylabel('Genre Combination')\n",
    "plt.tight_layout()\n",
    "plt.show()"
   ]
  },
  {
   "cell_type": "code",
   "execution_count": 29,
   "id": "a2d674a4",
   "metadata": {},
   "outputs": [],
   "source": [
    "# 1. Data cleaning\n",
    "# 2. EDA\n",
    "# 3. Text Preprocessing\n",
    "# 4. Model building\n",
    "# 5. Evaluation\n",
    "# 6. Improvement\n",
    "# 7. Website\n",
    "# 8. Deploy"
   ]
  },
  {
   "cell_type": "code",
   "execution_count": 30,
   "id": "acfff055",
   "metadata": {},
   "outputs": [
    {
     "data": {
      "application/vnd.microsoft.datawrangler.viewer.v0+json": {
       "columns": [
        {
         "name": "index",
         "rawType": "int64",
         "type": "integer"
        },
        {
         "name": "name",
         "rawType": "object",
         "type": "string"
        },
        {
         "name": "genre",
         "rawType": "object",
         "type": "unknown"
        },
        {
         "name": "rating",
         "rawType": "float64",
         "type": "float"
        },
        {
         "name": "members",
         "rawType": "int64",
         "type": "integer"
        },
        {
         "name": "genre_combo",
         "rawType": "object",
         "type": "string"
        }
       ],
       "ref": "b1304bf5-963a-41f4-98c5-8daaf8f5f6a8",
       "rows": [
        [
         "0",
         "Kimi no Na wa.",
         "['Drama', 'Romance', 'School', 'Supernatural']",
         "9.37",
         "200630",
         "Drama, Romance, School, Supernatural"
        ],
        [
         "1",
         "Fullmetal Alchemist: Brotherhood",
         "['Action', 'Adventure', 'Drama', 'Fantasy', 'Magic', 'Military', 'Shounen']",
         "9.26",
         "793665",
         "Action, Adventure, Drama, Fantasy, Magic, Military, Shounen"
        ],
        [
         "2",
         "Gintama°",
         "['Action', 'Comedy', 'Historical', 'Parody', 'Samurai', 'Sci-Fi', 'Shounen']",
         "9.25",
         "114262",
         "Action, Comedy, Historical, Parody, Samurai, Sci-Fi, Shounen"
        ],
        [
         "3",
         "Steins;Gate",
         "['Sci-Fi', 'Thriller']",
         "9.17",
         "673572",
         "Sci-Fi, Thriller"
        ],
        [
         "4",
         "Gintama&#039;",
         "['Action', 'Comedy', 'Historical', 'Parody', 'Samurai', 'Sci-Fi', 'Shounen']",
         "9.16",
         "151266",
         "Action, Comedy, Historical, Parody, Samurai, Sci-Fi, Shounen"
        ]
       ],
       "shape": {
        "columns": 5,
        "rows": 5
       }
      },
      "text/html": [
       "<div>\n",
       "<style scoped>\n",
       "    .dataframe tbody tr th:only-of-type {\n",
       "        vertical-align: middle;\n",
       "    }\n",
       "\n",
       "    .dataframe tbody tr th {\n",
       "        vertical-align: top;\n",
       "    }\n",
       "\n",
       "    .dataframe thead th {\n",
       "        text-align: right;\n",
       "    }\n",
       "</style>\n",
       "<table border=\"1\" class=\"dataframe\">\n",
       "  <thead>\n",
       "    <tr style=\"text-align: right;\">\n",
       "      <th></th>\n",
       "      <th>name</th>\n",
       "      <th>genre</th>\n",
       "      <th>rating</th>\n",
       "      <th>members</th>\n",
       "      <th>genre_combo</th>\n",
       "    </tr>\n",
       "  </thead>\n",
       "  <tbody>\n",
       "    <tr>\n",
       "      <th>0</th>\n",
       "      <td>Kimi no Na wa.</td>\n",
       "      <td>[Drama, Romance, School, Supernatural]</td>\n",
       "      <td>9.37</td>\n",
       "      <td>200630</td>\n",
       "      <td>Drama, Romance, School, Supernatural</td>\n",
       "    </tr>\n",
       "    <tr>\n",
       "      <th>1</th>\n",
       "      <td>Fullmetal Alchemist: Brotherhood</td>\n",
       "      <td>[Action, Adventure, Drama, Fantasy, Magic, Mil...</td>\n",
       "      <td>9.26</td>\n",
       "      <td>793665</td>\n",
       "      <td>Action, Adventure, Drama, Fantasy, Magic, Mili...</td>\n",
       "    </tr>\n",
       "    <tr>\n",
       "      <th>2</th>\n",
       "      <td>Gintama°</td>\n",
       "      <td>[Action, Comedy, Historical, Parody, Samurai, ...</td>\n",
       "      <td>9.25</td>\n",
       "      <td>114262</td>\n",
       "      <td>Action, Comedy, Historical, Parody, Samurai, S...</td>\n",
       "    </tr>\n",
       "    <tr>\n",
       "      <th>3</th>\n",
       "      <td>Steins;Gate</td>\n",
       "      <td>[Sci-Fi, Thriller]</td>\n",
       "      <td>9.17</td>\n",
       "      <td>673572</td>\n",
       "      <td>Sci-Fi, Thriller</td>\n",
       "    </tr>\n",
       "    <tr>\n",
       "      <th>4</th>\n",
       "      <td>Gintama&amp;#039;</td>\n",
       "      <td>[Action, Comedy, Historical, Parody, Samurai, ...</td>\n",
       "      <td>9.16</td>\n",
       "      <td>151266</td>\n",
       "      <td>Action, Comedy, Historical, Parody, Samurai, S...</td>\n",
       "    </tr>\n",
       "  </tbody>\n",
       "</table>\n",
       "</div>"
      ],
      "text/plain": [
       "                               name  \\\n",
       "0                    Kimi no Na wa.   \n",
       "1  Fullmetal Alchemist: Brotherhood   \n",
       "2                          Gintama°   \n",
       "3                       Steins;Gate   \n",
       "4                     Gintama&#039;   \n",
       "\n",
       "                                               genre  rating  members  \\\n",
       "0             [Drama, Romance, School, Supernatural]    9.37   200630   \n",
       "1  [Action, Adventure, Drama, Fantasy, Magic, Mil...    9.26   793665   \n",
       "2  [Action, Comedy, Historical, Parody, Samurai, ...    9.25   114262   \n",
       "3                                 [Sci-Fi, Thriller]    9.17   673572   \n",
       "4  [Action, Comedy, Historical, Parody, Samurai, ...    9.16   151266   \n",
       "\n",
       "                                         genre_combo  \n",
       "0               Drama, Romance, School, Supernatural  \n",
       "1  Action, Adventure, Drama, Fantasy, Magic, Mili...  \n",
       "2  Action, Comedy, Historical, Parody, Samurai, S...  \n",
       "3                                   Sci-Fi, Thriller  \n",
       "4  Action, Comedy, Historical, Parody, Samurai, S...  "
      ]
     },
     "execution_count": 30,
     "metadata": {},
     "output_type": "execute_result"
    }
   ],
   "source": [
    "df.head()"
   ]
  },
  {
   "cell_type": "code",
   "execution_count": 31,
   "id": "e356e5d4",
   "metadata": {},
   "outputs": [
    {
     "data": {
      "application/vnd.microsoft.datawrangler.viewer.v0+json": {
       "columns": [
        {
         "name": "index",
         "rawType": "int64",
         "type": "integer"
        },
        {
         "name": "name",
         "rawType": "object",
         "type": "string"
        },
        {
         "name": "genre",
         "rawType": "object",
         "type": "unknown"
        },
        {
         "name": "rating",
         "rawType": "float64",
         "type": "float"
        },
        {
         "name": "members",
         "rawType": "int64",
         "type": "integer"
        },
        {
         "name": "genre_combo",
         "rawType": "object",
         "type": "string"
        }
       ],
       "ref": "41a69171-3ced-4151-a5fd-e678078b0090",
       "rows": [
        [
         "0",
         "Kimi no Na wa.",
         "['Drama', 'Romance', 'School', 'Supernatural']",
         "9.37",
         "200630",
         "Drama, Romance, School, Supernatural"
        ],
        [
         "1",
         "Fullmetal Alchemist: Brotherhood",
         "['Action', 'Adventure', 'Drama', 'Fantasy', 'Magic', 'Military', 'Shounen']",
         "9.26",
         "793665",
         "Action, Adventure, Drama, Fantasy, Magic, Military, Shounen"
        ],
        [
         "2",
         "Gintama°",
         "['Action', 'Comedy', 'Historical', 'Parody', 'Samurai', 'Sci-Fi', 'Shounen']",
         "9.25",
         "114262",
         "Action, Comedy, Historical, Parody, Samurai, Sci-Fi, Shounen"
        ],
        [
         "3",
         "Steins;Gate",
         "['Sci-Fi', 'Thriller']",
         "9.17",
         "673572",
         "Sci-Fi, Thriller"
        ],
        [
         "4",
         "Gintama&#039;",
         "['Action', 'Comedy', 'Historical', 'Parody', 'Samurai', 'Sci-Fi', 'Shounen']",
         "9.16",
         "151266",
         "Action, Comedy, Historical, Parody, Samurai, Sci-Fi, Shounen"
        ],
        [
         "5",
         "Haikyuu!!: Karasuno Koukou VS Shiratorizawa Gakuen Koukou",
         "['Comedy', 'Drama', 'School', 'Shounen', 'Sports']",
         "9.15",
         "93351",
         "Comedy, Drama, School, Shounen, Sports"
        ],
        [
         "6",
         "Hunter x Hunter (2011)",
         "['Action', 'Adventure', 'Shounen', 'Super Power']",
         "9.13",
         "425855",
         "Action, Adventure, Shounen, Super Power"
        ],
        [
         "7",
         "Ginga Eiyuu Densetsu",
         "['Drama', 'Military', 'Sci-Fi', 'Space']",
         "9.11",
         "80679",
         "Drama, Military, Sci-Fi, Space"
        ],
        [
         "8",
         "Gintama Movie: Kanketsu-hen - Yorozuya yo Eien Nare",
         "['Action', 'Comedy', 'Historical', 'Parody', 'Samurai', 'Sci-Fi', 'Shounen']",
         "9.1",
         "72534",
         "Action, Comedy, Historical, Parody, Samurai, Sci-Fi, Shounen"
        ],
        [
         "9",
         "Gintama&#039;: Enchousen",
         "['Action', 'Comedy', 'Historical', 'Parody', 'Samurai', 'Sci-Fi', 'Shounen']",
         "9.11",
         "81109",
         "Action, Comedy, Historical, Parody, Samurai, Sci-Fi, Shounen"
        ]
       ],
       "shape": {
        "columns": 5,
        "rows": 10
       }
      },
      "text/html": [
       "<div>\n",
       "<style scoped>\n",
       "    .dataframe tbody tr th:only-of-type {\n",
       "        vertical-align: middle;\n",
       "    }\n",
       "\n",
       "    .dataframe tbody tr th {\n",
       "        vertical-align: top;\n",
       "    }\n",
       "\n",
       "    .dataframe thead th {\n",
       "        text-align: right;\n",
       "    }\n",
       "</style>\n",
       "<table border=\"1\" class=\"dataframe\">\n",
       "  <thead>\n",
       "    <tr style=\"text-align: right;\">\n",
       "      <th></th>\n",
       "      <th>name</th>\n",
       "      <th>genre</th>\n",
       "      <th>rating</th>\n",
       "      <th>members</th>\n",
       "      <th>genre_combo</th>\n",
       "    </tr>\n",
       "  </thead>\n",
       "  <tbody>\n",
       "    <tr>\n",
       "      <th>0</th>\n",
       "      <td>Kimi no Na wa.</td>\n",
       "      <td>[Drama, Romance, School, Supernatural]</td>\n",
       "      <td>9.37</td>\n",
       "      <td>200630</td>\n",
       "      <td>Drama, Romance, School, Supernatural</td>\n",
       "    </tr>\n",
       "    <tr>\n",
       "      <th>1</th>\n",
       "      <td>Fullmetal Alchemist: Brotherhood</td>\n",
       "      <td>[Action, Adventure, Drama, Fantasy, Magic, Mil...</td>\n",
       "      <td>9.26</td>\n",
       "      <td>793665</td>\n",
       "      <td>Action, Adventure, Drama, Fantasy, Magic, Mili...</td>\n",
       "    </tr>\n",
       "    <tr>\n",
       "      <th>2</th>\n",
       "      <td>Gintama°</td>\n",
       "      <td>[Action, Comedy, Historical, Parody, Samurai, ...</td>\n",
       "      <td>9.25</td>\n",
       "      <td>114262</td>\n",
       "      <td>Action, Comedy, Historical, Parody, Samurai, S...</td>\n",
       "    </tr>\n",
       "    <tr>\n",
       "      <th>3</th>\n",
       "      <td>Steins;Gate</td>\n",
       "      <td>[Sci-Fi, Thriller]</td>\n",
       "      <td>9.17</td>\n",
       "      <td>673572</td>\n",
       "      <td>Sci-Fi, Thriller</td>\n",
       "    </tr>\n",
       "    <tr>\n",
       "      <th>4</th>\n",
       "      <td>Gintama&amp;#039;</td>\n",
       "      <td>[Action, Comedy, Historical, Parody, Samurai, ...</td>\n",
       "      <td>9.16</td>\n",
       "      <td>151266</td>\n",
       "      <td>Action, Comedy, Historical, Parody, Samurai, S...</td>\n",
       "    </tr>\n",
       "    <tr>\n",
       "      <th>5</th>\n",
       "      <td>Haikyuu!!: Karasuno Koukou VS Shiratorizawa Ga...</td>\n",
       "      <td>[Comedy, Drama, School, Shounen, Sports]</td>\n",
       "      <td>9.15</td>\n",
       "      <td>93351</td>\n",
       "      <td>Comedy, Drama, School, Shounen, Sports</td>\n",
       "    </tr>\n",
       "    <tr>\n",
       "      <th>6</th>\n",
       "      <td>Hunter x Hunter (2011)</td>\n",
       "      <td>[Action, Adventure, Shounen, Super Power]</td>\n",
       "      <td>9.13</td>\n",
       "      <td>425855</td>\n",
       "      <td>Action, Adventure, Shounen, Super Power</td>\n",
       "    </tr>\n",
       "    <tr>\n",
       "      <th>7</th>\n",
       "      <td>Ginga Eiyuu Densetsu</td>\n",
       "      <td>[Drama, Military, Sci-Fi, Space]</td>\n",
       "      <td>9.11</td>\n",
       "      <td>80679</td>\n",
       "      <td>Drama, Military, Sci-Fi, Space</td>\n",
       "    </tr>\n",
       "    <tr>\n",
       "      <th>8</th>\n",
       "      <td>Gintama Movie: Kanketsu-hen - Yorozuya yo Eien...</td>\n",
       "      <td>[Action, Comedy, Historical, Parody, Samurai, ...</td>\n",
       "      <td>9.10</td>\n",
       "      <td>72534</td>\n",
       "      <td>Action, Comedy, Historical, Parody, Samurai, S...</td>\n",
       "    </tr>\n",
       "    <tr>\n",
       "      <th>9</th>\n",
       "      <td>Gintama&amp;#039;: Enchousen</td>\n",
       "      <td>[Action, Comedy, Historical, Parody, Samurai, ...</td>\n",
       "      <td>9.11</td>\n",
       "      <td>81109</td>\n",
       "      <td>Action, Comedy, Historical, Parody, Samurai, S...</td>\n",
       "    </tr>\n",
       "  </tbody>\n",
       "</table>\n",
       "</div>"
      ],
      "text/plain": [
       "                                                name  \\\n",
       "0                                     Kimi no Na wa.   \n",
       "1                   Fullmetal Alchemist: Brotherhood   \n",
       "2                                           Gintama°   \n",
       "3                                        Steins;Gate   \n",
       "4                                      Gintama&#039;   \n",
       "5  Haikyuu!!: Karasuno Koukou VS Shiratorizawa Ga...   \n",
       "6                             Hunter x Hunter (2011)   \n",
       "7                               Ginga Eiyuu Densetsu   \n",
       "8  Gintama Movie: Kanketsu-hen - Yorozuya yo Eien...   \n",
       "9                           Gintama&#039;: Enchousen   \n",
       "\n",
       "                                               genre  rating  members  \\\n",
       "0             [Drama, Romance, School, Supernatural]    9.37   200630   \n",
       "1  [Action, Adventure, Drama, Fantasy, Magic, Mil...    9.26   793665   \n",
       "2  [Action, Comedy, Historical, Parody, Samurai, ...    9.25   114262   \n",
       "3                                 [Sci-Fi, Thriller]    9.17   673572   \n",
       "4  [Action, Comedy, Historical, Parody, Samurai, ...    9.16   151266   \n",
       "5           [Comedy, Drama, School, Shounen, Sports]    9.15    93351   \n",
       "6          [Action, Adventure, Shounen, Super Power]    9.13   425855   \n",
       "7                   [Drama, Military, Sci-Fi, Space]    9.11    80679   \n",
       "8  [Action, Comedy, Historical, Parody, Samurai, ...    9.10    72534   \n",
       "9  [Action, Comedy, Historical, Parody, Samurai, ...    9.11    81109   \n",
       "\n",
       "                                         genre_combo  \n",
       "0               Drama, Romance, School, Supernatural  \n",
       "1  Action, Adventure, Drama, Fantasy, Magic, Mili...  \n",
       "2  Action, Comedy, Historical, Parody, Samurai, S...  \n",
       "3                                   Sci-Fi, Thriller  \n",
       "4  Action, Comedy, Historical, Parody, Samurai, S...  \n",
       "5             Comedy, Drama, School, Shounen, Sports  \n",
       "6            Action, Adventure, Shounen, Super Power  \n",
       "7                     Drama, Military, Sci-Fi, Space  \n",
       "8  Action, Comedy, Historical, Parody, Samurai, S...  \n",
       "9  Action, Comedy, Historical, Parody, Samurai, S...  "
      ]
     },
     "execution_count": 31,
     "metadata": {},
     "output_type": "execute_result"
    }
   ],
   "source": [
    "df.head(10)"
   ]
  },
  {
   "cell_type": "code",
   "execution_count": 32,
   "id": "ea2ce200",
   "metadata": {},
   "outputs": [],
   "source": [
    "df['genre_processed'] = df['genre'].apply(lambda g: ' '.join(g).lower()) #removing the commas and lowercasing them \n"
   ]
  },
  {
   "cell_type": "code",
   "execution_count": 33,
   "id": "e5428302",
   "metadata": {},
   "outputs": [
    {
     "data": {
      "application/vnd.microsoft.datawrangler.viewer.v0+json": {
       "columns": [
        {
         "name": "index",
         "rawType": "int64",
         "type": "integer"
        },
        {
         "name": "name",
         "rawType": "object",
         "type": "string"
        },
        {
         "name": "genre",
         "rawType": "object",
         "type": "unknown"
        },
        {
         "name": "rating",
         "rawType": "float64",
         "type": "float"
        },
        {
         "name": "members",
         "rawType": "int64",
         "type": "integer"
        },
        {
         "name": "genre_combo",
         "rawType": "object",
         "type": "string"
        },
        {
         "name": "genre_processed",
         "rawType": "object",
         "type": "string"
        }
       ],
       "ref": "901fdf2c-5b5a-4ebc-b473-05b172b9b4fb",
       "rows": [
        [
         "0",
         "Kimi no Na wa.",
         "['Drama', 'Romance', 'School', 'Supernatural']",
         "9.37",
         "200630",
         "Drama, Romance, School, Supernatural",
         "drama romance school supernatural"
        ],
        [
         "1",
         "Fullmetal Alchemist: Brotherhood",
         "['Action', 'Adventure', 'Drama', 'Fantasy', 'Magic', 'Military', 'Shounen']",
         "9.26",
         "793665",
         "Action, Adventure, Drama, Fantasy, Magic, Military, Shounen",
         "action adventure drama fantasy magic military shounen"
        ],
        [
         "2",
         "Gintama°",
         "['Action', 'Comedy', 'Historical', 'Parody', 'Samurai', 'Sci-Fi', 'Shounen']",
         "9.25",
         "114262",
         "Action, Comedy, Historical, Parody, Samurai, Sci-Fi, Shounen",
         "action comedy historical parody samurai sci-fi shounen"
        ],
        [
         "3",
         "Steins;Gate",
         "['Sci-Fi', 'Thriller']",
         "9.17",
         "673572",
         "Sci-Fi, Thriller",
         "sci-fi thriller"
        ],
        [
         "4",
         "Gintama&#039;",
         "['Action', 'Comedy', 'Historical', 'Parody', 'Samurai', 'Sci-Fi', 'Shounen']",
         "9.16",
         "151266",
         "Action, Comedy, Historical, Parody, Samurai, Sci-Fi, Shounen",
         "action comedy historical parody samurai sci-fi shounen"
        ]
       ],
       "shape": {
        "columns": 6,
        "rows": 5
       }
      },
      "text/html": [
       "<div>\n",
       "<style scoped>\n",
       "    .dataframe tbody tr th:only-of-type {\n",
       "        vertical-align: middle;\n",
       "    }\n",
       "\n",
       "    .dataframe tbody tr th {\n",
       "        vertical-align: top;\n",
       "    }\n",
       "\n",
       "    .dataframe thead th {\n",
       "        text-align: right;\n",
       "    }\n",
       "</style>\n",
       "<table border=\"1\" class=\"dataframe\">\n",
       "  <thead>\n",
       "    <tr style=\"text-align: right;\">\n",
       "      <th></th>\n",
       "      <th>name</th>\n",
       "      <th>genre</th>\n",
       "      <th>rating</th>\n",
       "      <th>members</th>\n",
       "      <th>genre_combo</th>\n",
       "      <th>genre_processed</th>\n",
       "    </tr>\n",
       "  </thead>\n",
       "  <tbody>\n",
       "    <tr>\n",
       "      <th>0</th>\n",
       "      <td>Kimi no Na wa.</td>\n",
       "      <td>[Drama, Romance, School, Supernatural]</td>\n",
       "      <td>9.37</td>\n",
       "      <td>200630</td>\n",
       "      <td>Drama, Romance, School, Supernatural</td>\n",
       "      <td>drama romance school supernatural</td>\n",
       "    </tr>\n",
       "    <tr>\n",
       "      <th>1</th>\n",
       "      <td>Fullmetal Alchemist: Brotherhood</td>\n",
       "      <td>[Action, Adventure, Drama, Fantasy, Magic, Mil...</td>\n",
       "      <td>9.26</td>\n",
       "      <td>793665</td>\n",
       "      <td>Action, Adventure, Drama, Fantasy, Magic, Mili...</td>\n",
       "      <td>action adventure drama fantasy magic military ...</td>\n",
       "    </tr>\n",
       "    <tr>\n",
       "      <th>2</th>\n",
       "      <td>Gintama°</td>\n",
       "      <td>[Action, Comedy, Historical, Parody, Samurai, ...</td>\n",
       "      <td>9.25</td>\n",
       "      <td>114262</td>\n",
       "      <td>Action, Comedy, Historical, Parody, Samurai, S...</td>\n",
       "      <td>action comedy historical parody samurai sci-fi...</td>\n",
       "    </tr>\n",
       "    <tr>\n",
       "      <th>3</th>\n",
       "      <td>Steins;Gate</td>\n",
       "      <td>[Sci-Fi, Thriller]</td>\n",
       "      <td>9.17</td>\n",
       "      <td>673572</td>\n",
       "      <td>Sci-Fi, Thriller</td>\n",
       "      <td>sci-fi thriller</td>\n",
       "    </tr>\n",
       "    <tr>\n",
       "      <th>4</th>\n",
       "      <td>Gintama&amp;#039;</td>\n",
       "      <td>[Action, Comedy, Historical, Parody, Samurai, ...</td>\n",
       "      <td>9.16</td>\n",
       "      <td>151266</td>\n",
       "      <td>Action, Comedy, Historical, Parody, Samurai, S...</td>\n",
       "      <td>action comedy historical parody samurai sci-fi...</td>\n",
       "    </tr>\n",
       "  </tbody>\n",
       "</table>\n",
       "</div>"
      ],
      "text/plain": [
       "                               name  \\\n",
       "0                    Kimi no Na wa.   \n",
       "1  Fullmetal Alchemist: Brotherhood   \n",
       "2                          Gintama°   \n",
       "3                       Steins;Gate   \n",
       "4                     Gintama&#039;   \n",
       "\n",
       "                                               genre  rating  members  \\\n",
       "0             [Drama, Romance, School, Supernatural]    9.37   200630   \n",
       "1  [Action, Adventure, Drama, Fantasy, Magic, Mil...    9.26   793665   \n",
       "2  [Action, Comedy, Historical, Parody, Samurai, ...    9.25   114262   \n",
       "3                                 [Sci-Fi, Thriller]    9.17   673572   \n",
       "4  [Action, Comedy, Historical, Parody, Samurai, ...    9.16   151266   \n",
       "\n",
       "                                         genre_combo  \\\n",
       "0               Drama, Romance, School, Supernatural   \n",
       "1  Action, Adventure, Drama, Fantasy, Magic, Mili...   \n",
       "2  Action, Comedy, Historical, Parody, Samurai, S...   \n",
       "3                                   Sci-Fi, Thriller   \n",
       "4  Action, Comedy, Historical, Parody, Samurai, S...   \n",
       "\n",
       "                                     genre_processed  \n",
       "0                  drama romance school supernatural  \n",
       "1  action adventure drama fantasy magic military ...  \n",
       "2  action comedy historical parody samurai sci-fi...  \n",
       "3                                    sci-fi thriller  \n",
       "4  action comedy historical parody samurai sci-fi...  "
      ]
     },
     "execution_count": 33,
     "metadata": {},
     "output_type": "execute_result"
    }
   ],
   "source": [
    "df.head()"
   ]
  },
  {
   "cell_type": "markdown",
   "id": "10fc0fa2",
   "metadata": {},
   "source": [
    "vectorization"
   ]
  },
  {
   "cell_type": "code",
   "execution_count": 34,
   "id": "fe40cd20",
   "metadata": {},
   "outputs": [],
   "source": [
    "from sklearn.feature_extraction.text import TfidfVectorizer\n",
    "\n",
    "# Initialize vectorizer\n",
    "tfidf = TfidfVectorizer()\n",
    "\n",
    "# Fit and transform the genre_processed column\n",
    "genre_tfidf = tfidf.fit_transform(df['genre_processed'])\n"
   ]
  },
  {
   "cell_type": "code",
   "execution_count": 35,
   "id": "7635a024",
   "metadata": {},
   "outputs": [],
   "source": [
    "from sklearn.preprocessing import MinMaxScaler\n",
    "\n",
    "scaler = MinMaxScaler()\n",
    "normalized_members = scaler.fit_transform(df[['members']])"
   ]
  },
  {
   "cell_type": "code",
   "execution_count": 36,
   "id": "7d7777c7",
   "metadata": {},
   "outputs": [],
   "source": [
    "normalized_rating = scaler.fit_transform(df[['rating']])"
   ]
  },
  {
   "cell_type": "code",
   "execution_count": 37,
   "id": "af74695b",
   "metadata": {},
   "outputs": [],
   "source": [
    "from scipy.sparse import hstack\n",
    "final_features = hstack([genre_tfidf, normalized_members, normalized_rating])\n"
   ]
  },
  {
   "cell_type": "code",
   "execution_count": 38,
   "id": "c6824317",
   "metadata": {},
   "outputs": [],
   "source": [
    "from sklearn.metrics.pairwise import cosine_similarity\n",
    "\n",
    "similarity_matrix = cosine_similarity(final_features)"
   ]
  },
  {
   "cell_type": "code",
   "execution_count": 39,
   "id": "f89e347a",
   "metadata": {},
   "outputs": [
    {
     "data": {
      "application/vnd.microsoft.datawrangler.viewer.v0+json": {
       "columns": [
        {
         "name": "index",
         "rawType": "int64",
         "type": "integer"
        },
        {
         "name": "name",
         "rawType": "object",
         "type": "string"
        },
        {
         "name": "genre",
         "rawType": "object",
         "type": "unknown"
        },
        {
         "name": "rating",
         "rawType": "float64",
         "type": "float"
        },
        {
         "name": "members",
         "rawType": "int64",
         "type": "integer"
        },
        {
         "name": "genre_combo",
         "rawType": "object",
         "type": "string"
        },
        {
         "name": "genre_processed",
         "rawType": "object",
         "type": "string"
        }
       ],
       "ref": "64ceed47-0049-4c61-97ea-c6e9f7d3a7b0",
       "rows": [
        [
         "0",
         "Kimi no Na wa.",
         "['Drama', 'Romance', 'School', 'Supernatural']",
         "9.37",
         "200630",
         "Drama, Romance, School, Supernatural",
         "drama romance school supernatural"
        ],
        [
         "1",
         "Fullmetal Alchemist: Brotherhood",
         "['Action', 'Adventure', 'Drama', 'Fantasy', 'Magic', 'Military', 'Shounen']",
         "9.26",
         "793665",
         "Action, Adventure, Drama, Fantasy, Magic, Military, Shounen",
         "action adventure drama fantasy magic military shounen"
        ],
        [
         "2",
         "Gintama°",
         "['Action', 'Comedy', 'Historical', 'Parody', 'Samurai', 'Sci-Fi', 'Shounen']",
         "9.25",
         "114262",
         "Action, Comedy, Historical, Parody, Samurai, Sci-Fi, Shounen",
         "action comedy historical parody samurai sci-fi shounen"
        ],
        [
         "3",
         "Steins;Gate",
         "['Sci-Fi', 'Thriller']",
         "9.17",
         "673572",
         "Sci-Fi, Thriller",
         "sci-fi thriller"
        ],
        [
         "4",
         "Gintama&#039;",
         "['Action', 'Comedy', 'Historical', 'Parody', 'Samurai', 'Sci-Fi', 'Shounen']",
         "9.16",
         "151266",
         "Action, Comedy, Historical, Parody, Samurai, Sci-Fi, Shounen",
         "action comedy historical parody samurai sci-fi shounen"
        ]
       ],
       "shape": {
        "columns": 6,
        "rows": 5
       }
      },
      "text/html": [
       "<div>\n",
       "<style scoped>\n",
       "    .dataframe tbody tr th:only-of-type {\n",
       "        vertical-align: middle;\n",
       "    }\n",
       "\n",
       "    .dataframe tbody tr th {\n",
       "        vertical-align: top;\n",
       "    }\n",
       "\n",
       "    .dataframe thead th {\n",
       "        text-align: right;\n",
       "    }\n",
       "</style>\n",
       "<table border=\"1\" class=\"dataframe\">\n",
       "  <thead>\n",
       "    <tr style=\"text-align: right;\">\n",
       "      <th></th>\n",
       "      <th>name</th>\n",
       "      <th>genre</th>\n",
       "      <th>rating</th>\n",
       "      <th>members</th>\n",
       "      <th>genre_combo</th>\n",
       "      <th>genre_processed</th>\n",
       "    </tr>\n",
       "  </thead>\n",
       "  <tbody>\n",
       "    <tr>\n",
       "      <th>0</th>\n",
       "      <td>Kimi no Na wa.</td>\n",
       "      <td>[Drama, Romance, School, Supernatural]</td>\n",
       "      <td>9.37</td>\n",
       "      <td>200630</td>\n",
       "      <td>Drama, Romance, School, Supernatural</td>\n",
       "      <td>drama romance school supernatural</td>\n",
       "    </tr>\n",
       "    <tr>\n",
       "      <th>1</th>\n",
       "      <td>Fullmetal Alchemist: Brotherhood</td>\n",
       "      <td>[Action, Adventure, Drama, Fantasy, Magic, Mil...</td>\n",
       "      <td>9.26</td>\n",
       "      <td>793665</td>\n",
       "      <td>Action, Adventure, Drama, Fantasy, Magic, Mili...</td>\n",
       "      <td>action adventure drama fantasy magic military ...</td>\n",
       "    </tr>\n",
       "    <tr>\n",
       "      <th>2</th>\n",
       "      <td>Gintama°</td>\n",
       "      <td>[Action, Comedy, Historical, Parody, Samurai, ...</td>\n",
       "      <td>9.25</td>\n",
       "      <td>114262</td>\n",
       "      <td>Action, Comedy, Historical, Parody, Samurai, S...</td>\n",
       "      <td>action comedy historical parody samurai sci-fi...</td>\n",
       "    </tr>\n",
       "    <tr>\n",
       "      <th>3</th>\n",
       "      <td>Steins;Gate</td>\n",
       "      <td>[Sci-Fi, Thriller]</td>\n",
       "      <td>9.17</td>\n",
       "      <td>673572</td>\n",
       "      <td>Sci-Fi, Thriller</td>\n",
       "      <td>sci-fi thriller</td>\n",
       "    </tr>\n",
       "    <tr>\n",
       "      <th>4</th>\n",
       "      <td>Gintama&amp;#039;</td>\n",
       "      <td>[Action, Comedy, Historical, Parody, Samurai, ...</td>\n",
       "      <td>9.16</td>\n",
       "      <td>151266</td>\n",
       "      <td>Action, Comedy, Historical, Parody, Samurai, S...</td>\n",
       "      <td>action comedy historical parody samurai sci-fi...</td>\n",
       "    </tr>\n",
       "  </tbody>\n",
       "</table>\n",
       "</div>"
      ],
      "text/plain": [
       "                               name  \\\n",
       "0                    Kimi no Na wa.   \n",
       "1  Fullmetal Alchemist: Brotherhood   \n",
       "2                          Gintama°   \n",
       "3                       Steins;Gate   \n",
       "4                     Gintama&#039;   \n",
       "\n",
       "                                               genre  rating  members  \\\n",
       "0             [Drama, Romance, School, Supernatural]    9.37   200630   \n",
       "1  [Action, Adventure, Drama, Fantasy, Magic, Mil...    9.26   793665   \n",
       "2  [Action, Comedy, Historical, Parody, Samurai, ...    9.25   114262   \n",
       "3                                 [Sci-Fi, Thriller]    9.17   673572   \n",
       "4  [Action, Comedy, Historical, Parody, Samurai, ...    9.16   151266   \n",
       "\n",
       "                                         genre_combo  \\\n",
       "0               Drama, Romance, School, Supernatural   \n",
       "1  Action, Adventure, Drama, Fantasy, Magic, Mili...   \n",
       "2  Action, Comedy, Historical, Parody, Samurai, S...   \n",
       "3                                   Sci-Fi, Thriller   \n",
       "4  Action, Comedy, Historical, Parody, Samurai, S...   \n",
       "\n",
       "                                     genre_processed  \n",
       "0                  drama romance school supernatural  \n",
       "1  action adventure drama fantasy magic military ...  \n",
       "2  action comedy historical parody samurai sci-fi...  \n",
       "3                                    sci-fi thriller  \n",
       "4  action comedy historical parody samurai sci-fi...  "
      ]
     },
     "execution_count": 39,
     "metadata": {},
     "output_type": "execute_result"
    }
   ],
   "source": [
    "df.head()"
   ]
  },
  {
   "cell_type": "code",
   "execution_count": 40,
   "id": "b03c789d",
   "metadata": {},
   "outputs": [],
   "source": [
    "similarity_matrix = similarity_matrix.astype('float32') #all this does is decraese the value from the default float64 to float32 which decreases the file size(check notes for more info)"
   ]
  },
  {
   "cell_type": "code",
   "execution_count": 41,
   "id": "d17688ff",
   "metadata": {},
   "outputs": [],
   "source": [
    "def recommend(anime_name, df, similarity_matrix, top_n=5):\n",
    "    # Get index of the anime\n",
    "    idx = df[df['name'].str.lower() == anime_name.lower()].index\n",
    "    if len(idx) == 0:\n",
    "        return \"Anime not found.\"\n",
    "    idx = idx[0]\n",
    "\n",
    "    # Get similarity scores\n",
    "    sim_scores = list(enumerate(similarity_matrix[idx]))\n",
    "\n",
    "    # Sort by similarity (excluding the anime itself)\n",
    "    sim_scores = sorted(sim_scores, key=lambda x: x[1], reverse=True)[1:top_n+1]\n",
    "\n",
    "    # Get recommended anime names\n",
    "    recommended = df.iloc[[i[0] for i in sim_scores]]['name'].tolist()\n",
    "    return recommended\n"
   ]
  },
  {
   "cell_type": "code",
   "execution_count": 42,
   "id": "c8805aef",
   "metadata": {},
   "outputs": [
    {
     "data": {
      "text/plain": [
       "['Bleach Movie 3: Fade to Black - Kimi no Na wo Yobu',\n",
       " 'Bleach Movie 4: Jigoku-hen',\n",
       " 'K',\n",
       " 'Katekyo Hitman Reborn!',\n",
       " 'Code:Breaker']"
      ]
     },
     "execution_count": 42,
     "metadata": {},
     "output_type": "execute_result"
    }
   ],
   "source": [
    "recommend(\"Bleach\", df, similarity_matrix)"
   ]
  },
  {
   "cell_type": "code",
   "execution_count": null,
   "id": "6f06cdc1",
   "metadata": {},
   "outputs": [],
   "source": []
  },
  {
   "cell_type": "code",
   "execution_count": 43,
   "id": "1aca749c",
   "metadata": {},
   "outputs": [],
   "source": [
    "import pickle\n",
    "pickle.dump(df, open('df.pkl', 'wb'))\n",
    "pickle.dump(similarity_matrix, open('similarity_1.pkl', 'wb'))"
   ]
  },
  {
   "cell_type": "code",
   "execution_count": null,
   "id": "30d4f3c6",
   "metadata": {},
   "outputs": [],
   "source": []
  }
 ],
 "metadata": {
  "kernelspec": {
   "display_name": "Python 3",
   "language": "python",
   "name": "python3"
  },
  "language_info": {
   "codemirror_mode": {
    "name": "ipython",
    "version": 3
   },
   "file_extension": ".py",
   "mimetype": "text/x-python",
   "name": "python",
   "nbconvert_exporter": "python",
   "pygments_lexer": "ipython3",
   "version": "3.10.11"
  }
 },
 "nbformat": 4,
 "nbformat_minor": 5
}
